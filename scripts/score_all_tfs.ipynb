{
 "cells": [
  {
   "cell_type": "code",
   "execution_count": 2,
   "id": "bfe80a1a-88a0-4aa0-9447-9f66556cd218",
   "metadata": {},
   "outputs": [],
   "source": [
    "%load_ext autoreload\n",
    "%autoreload 2\n",
    "import dnn_util as util\n",
    "import pandas as pd\n",
    "import os\n",
    "import seaborn as sns\n",
    "import pyBigWig\n",
    "import matplotlib.pyplot as plt\n",
    "from tqdm import tqdm\n",
    "import tensorflow as tf\n",
    "import numpy as np"
   ]
  },
  {
   "cell_type": "markdown",
   "id": "8216c000-66be-4757-9af1-6ddbbd753f9b",
   "metadata": {},
   "source": [
    "# Reprogram-seq models"
   ]
  },
  {
   "cell_type": "code",
   "execution_count": 34,
   "id": "27314815-2c31-4127-9ac3-83e23a74a280",
   "metadata": {},
   "outputs": [],
   "source": [
    "motif_positions_dir = 'motif_positions/'\n",
    "models_dir = 'models/'\n",
    "model_name = 'basenji'"
   ]
  },
  {
   "cell_type": "code",
   "execution_count": 35,
   "id": "87aea1c6-d59c-4b7b-8614-22fb06d3c241",
   "metadata": {},
   "outputs": [
    {
     "name": "stdout",
     "output_type": "stream",
     "text": [
      "WARNING:tensorflow:No training configuration found in the save file, so the model was *not* compiled. Compile it manually.\n",
      "WARNING:tensorflow:No training configuration found in the save file, so the model was *not* compiled. Compile it manually.\n"
     ]
    }
   ],
   "source": [
    "clusters_of_interest = ['C1', 'C3']\n",
    "models = {k: util.load_model(f'{models_dir}/reprogram_seq_{k}_{model_name}_poisson_32/files/best_model.h5') for k in clusters_of_interest}\n"
   ]
  },
  {
   "cell_type": "code",
   "execution_count": 36,
   "id": "feb35bfd-ae27-41d3-916d-05e9e928dcf0",
   "metadata": {},
   "outputs": [
    {
     "name": "stderr",
     "output_type": "stream",
     "text": [
      "0it [00:00, ?it/s]"
     ]
    },
    {
     "name": "stdout",
     "output_type": "stream",
     "text": [
      "scores/basenji_Gata6.Zf_109.csv\n"
     ]
    },
    {
     "name": "stderr",
     "output_type": "stream",
     "text": [
      "9958it [12:25, 13.35it/s]\n",
      "0it [00:00, ?it/s]"
     ]
    },
    {
     "name": "stdout",
     "output_type": "stream",
     "text": [
      "scores/basenji_Nkx2.1.Homeobox_182.csv\n"
     ]
    },
    {
     "name": "stderr",
     "output_type": "stream",
     "text": [
      "10283it [12:22, 13.85it/s]\n"
     ]
    }
   ],
   "source": [
    "\n",
    "for cluster, motif, clean_motif_name in [['C1', 'Gata6.Zf_109', 'GATA6'],\n",
    "                                        ['C3', 'Nkx2.1.Homeobox_182', 'NKX2-1'],\n",
    "                                       ]: # for NKX - C3\n",
    "    res_path = f'scores/{model_name}_{motif}.csv'\n",
    "    print(res_path)\n",
    "    if not os.path.isfile(res_path):\n",
    "        cluster_scores = pd.read_csv(f'{motif_positions_dir}/{motif}.csv', index_col='Unnamed: 0')\n",
    "        cluster_scores['start'] = cluster_scores['start'] - 1\n",
    "        cluster_scores['regulon_tf'] = clean_motif_name\n",
    "        cluster_scores['count'] = util.get_scores(models[cluster], cluster_scores)\n",
    "        cluster_scores.to_csv(res_path, index=None)"
   ]
  },
  {
   "cell_type": "markdown",
   "id": "f4e2f566-1299-49a9-8c06-a6588db84e1c",
   "metadata": {},
   "source": [
    "# AR models"
   ]
  },
  {
   "cell_type": "code",
   "execution_count": 37,
   "id": "9d8282f8-2021-4612-a589-62ca486b28d7",
   "metadata": {},
   "outputs": [
    {
     "name": "stdout",
     "output_type": "stream",
     "text": [
      "WARNING:tensorflow:No training configuration found in the save file, so the model was *not* compiled. Compile it manually.\n"
     ]
    }
   ],
   "source": [
    "dmso_model = util.load_model(f'{models_dir}/AR_HTO1_LNCaP_DMSO_{model_name}_poisson_32/files/best_model.h5')"
   ]
  },
  {
   "cell_type": "code",
   "execution_count": 38,
   "id": "afe6f477-6978-4b28-81af-2c6bd9d7244e",
   "metadata": {},
   "outputs": [],
   "source": [
    "motif = 'AR_689'\n",
    "motif_positions = pd.read_csv(f'{motif_positions_dir}/{motif}.csv', index_col='Unnamed: 0')"
   ]
  },
  {
   "cell_type": "code",
   "execution_count": 39,
   "id": "79b1e862-42a0-41bf-be03-32a590b9ec9e",
   "metadata": {},
   "outputs": [
    {
     "name": "stderr",
     "output_type": "stream",
     "text": [
      "15370it [18:32, 13.81it/s]\n"
     ]
    }
   ],
   "source": [
    "motif_positions['start'] = motif_positions['start'] - 1\n",
    "motif_positions['count'] = util.get_scores(dmso_model, motif_positions)\n",
    "motif_positions.to_csv(f'scores/{model_name}_{motif}.csv')"
   ]
  },
  {
   "cell_type": "code",
   "execution_count": 11,
   "id": "390c525e-f947-4cda-9a2a-9c550450d22a",
   "metadata": {},
   "outputs": [],
   "source": []
  },
  {
   "cell_type": "code",
   "execution_count": 14,
   "id": "fbf36bf7-129b-4e3e-a908-af6b979cf63e",
   "metadata": {},
   "outputs": [
    {
     "data": {
      "text/plain": [
       "<Axes: xlabel='count', ylabel='Count'>"
      ]
     },
     "execution_count": 14,
     "metadata": {},
     "output_type": "execute_result"
    },
    {
     "data": {
      "image/png": "[encoded data removed]",
      "text/plain": [
       "<Figure size 640x480 with 1 Axes>"
      ]
     },
     "metadata": {},
     "output_type": "display_data"
    }
   ],
   "source": [
    "sns.histplot(motif_positions['count'])"
   ]
  },
  {
   "cell_type": "code",
   "execution_count": 15,
   "id": "bd0a5236-a124-46ac-b158-f037a460d3a9",
   "metadata": {},
   "outputs": [
    {
     "data": {
      "text/html": [
       "<div>\n",
       "<style scoped>\n",
       "    .dataframe tbody tr th:only-of-type {\n",
       "        vertical-align: middle;\n",
       "    }\n",
       "\n",
       "    .dataframe tbody tr th {\n",
       "        vertical-align: top;\n",
       "    }\n",
       "\n",
       "    .dataframe thead th {\n",
       "        text-align: right;\n",
       "    }\n",
       "</style>\n",
       "<table border=\"1\" class=\"dataframe\">\n",
       "  <thead>\n",
       "    <tr style=\"text-align: right;\">\n",
       "      <th></th>\n",
       "      <th>seqnames</th>\n",
       "      <th>start</th>\n",
       "      <th>end</th>\n",
       "      <th>width</th>\n",
       "      <th>strand</th>\n",
       "      <th>score</th>\n",
       "      <th>count</th>\n",
       "    </tr>\n",
       "  </thead>\n",
       "  <tbody>\n",
       "    <tr>\n",
       "      <th>1</th>\n",
       "      <td>chr1</td>\n",
       "      <td>984296</td>\n",
       "      <td>984312</td>\n",
       "      <td>17</td>\n",
       "      <td>+</td>\n",
       "      <td>8.647330</td>\n",
       "      <td>0.006262</td>\n",
       "    </tr>\n",
       "    <tr>\n",
       "      <th>2</th>\n",
       "      <td>chr1</td>\n",
       "      <td>984296</td>\n",
       "      <td>984312</td>\n",
       "      <td>17</td>\n",
       "      <td>-</td>\n",
       "      <td>9.039125</td>\n",
       "      <td>0.006262</td>\n",
       "    </tr>\n",
       "    <tr>\n",
       "      <th>3</th>\n",
       "      <td>chr1</td>\n",
       "      <td>1083751</td>\n",
       "      <td>1083767</td>\n",
       "      <td>17</td>\n",
       "      <td>+</td>\n",
       "      <td>7.205529</td>\n",
       "      <td>0.004951</td>\n",
       "    </tr>\n",
       "    <tr>\n",
       "      <th>4</th>\n",
       "      <td>chr1</td>\n",
       "      <td>1083751</td>\n",
       "      <td>1083767</td>\n",
       "      <td>17</td>\n",
       "      <td>-</td>\n",
       "      <td>7.154739</td>\n",
       "      <td>0.004951</td>\n",
       "    </tr>\n",
       "    <tr>\n",
       "      <th>5</th>\n",
       "      <td>chr1</td>\n",
       "      <td>1213737</td>\n",
       "      <td>1213753</td>\n",
       "      <td>17</td>\n",
       "      <td>+</td>\n",
       "      <td>11.015068</td>\n",
       "      <td>0.001950</td>\n",
       "    </tr>\n",
       "  </tbody>\n",
       "</table>\n",
       "</div>"
      ],
      "text/plain": [
       "  seqnames    start      end  width strand      score     count\n",
       "1     chr1   984296   984312     17      +   8.647330  0.006262\n",
       "2     chr1   984296   984312     17      -   9.039125  0.006262\n",
       "3     chr1  1083751  1083767     17      +   7.205529  0.004951\n",
       "4     chr1  1083751  1083767     17      -   7.154739  0.004951\n",
       "5     chr1  1213737  1213753     17      +  11.015068  0.001950"
      ]
     },
     "execution_count": 15,
     "metadata": {},
     "output_type": "execute_result"
    }
   ],
   "source": [
    "motif_positions.head()"
   ]
  },
  {
   "cell_type": "code",
   "execution_count": 17,
   "id": "892c80ac-319b-4d6e-8f9c-46505816e470",
   "metadata": {},
   "outputs": [],
   "source": []
  },
  {
   "cell_type": "code",
   "execution_count": null,
   "id": "bba2621a-7131-43e5-98b2-b8553f7acf98",
   "metadata": {},
   "outputs": [],
   "source": []
  }
 ],
 "metadata": {
  "kernelspec": {
   "display_name": "cbp",
   "language": "python",
   "name": "cbp"
  },
  "language_info": {
   "codemirror_mode": {
    "name": "ipython",
    "version": 3
   },
   "file_extension": ".py",
   "mimetype": "text/x-python",
   "name": "python",
   "nbconvert_exporter": "python",
   "pygments_lexer": "ipython3",
   "version": "3.9.16"
  }
 },
 "nbformat": 4,
 "nbformat_minor": 5
}
