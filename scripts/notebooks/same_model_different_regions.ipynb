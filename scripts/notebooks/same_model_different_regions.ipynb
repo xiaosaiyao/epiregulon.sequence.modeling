{
 "cells": [
  {
   "cell_type": "code",
   "execution_count": 13,
   "id": "1a3b0a61-b081-40b5-bbca-0ee202714490",
   "metadata": {},
   "outputs": [
    {
     "name": "stdout",
     "output_type": "stream",
     "text": [
      "The autoreload extension is already loaded. To reload it, use:\n",
      "  %reload_ext autoreload\n"
     ]
    }
   ],
   "source": [
    "%load_ext autoreload\n",
    "%autoreload 2\n",
    "import sys, os\n",
    "sys.path.append('../')\n",
    "import util\n",
    "import dinuc_shuffle\n",
    "import shutil\n",
    "import pandas as pd\n",
    "import pysam\n",
    "import kipoiseq\n",
    "import pybedtools\n",
    "import numpy as np\n",
    "import seaborn as sns\n"
   ]
  },
  {
   "cell_type": "code",
   "execution_count": 3,
   "id": "de726547-64df-471a-a55f-658fa6fadbc3",
   "metadata": {},
   "outputs": [],
   "source": [
    "regulon = pd.read_csv('/gstore/home/toneyans/regulon.csv')\n",
    "fasta_extractor = util.FastaStringExtractor('../../genomes/hg38.fa')\n"
   ]
  },
  {
   "cell_type": "code",
   "execution_count": 4,
   "id": "5220c36d-7243-436b-ac7e-5c5f387a9b8e",
   "metadata": {},
   "outputs": [],
   "source": [
    "gata = pybedtools.BedTool('./gata6.csv')\n",
    "nkx = pybedtools.BedTool('nkx.csv')\n",
    "c1 = pybedtools.BedTool('/gstore/project/lineage/shush/CBP_Epiregulon/training_data/peaks/C1_peaks.bed')\n",
    "c3 = pybedtools.BedTool('/gstore/project/lineage/shush/CBP_Epiregulon/training_data/peaks/C3_peaks.bed')\n"
   ]
  },
  {
   "cell_type": "code",
   "execution_count": 5,
   "id": "be6f4ca4-9b2f-4f7c-b9bc-4e31ab1878db",
   "metadata": {},
   "outputs": [],
   "source": []
  },
  {
   "cell_type": "code",
   "execution_count": 6,
   "id": "9665435c-2a94-48a3-bb70-83f83317b9dd",
   "metadata": {},
   "outputs": [],
   "source": [
    "intersects = {}\n",
    "intersects['gata_and_c1'] = intersect_beds(gata, c1)"
   ]
  },
  {
   "cell_type": "code",
   "execution_count": 7,
   "id": "cb1c7906-27ff-4c60-993f-6a7477b1956c",
   "metadata": {},
   "outputs": [],
   "source": [
    "intersects['nkx_and_c1'] = intersect_beds(nkx, c1)"
   ]
  },
  {
   "cell_type": "code",
   "execution_count": 8,
   "id": "e667da54-94a8-4936-ab5d-9f19cb5e15d4",
   "metadata": {},
   "outputs": [],
   "source": [
    "intersects['nkx_and_c3'] = intersect_beds(nkx, c3)\n",
    "intersects['gata_and_c3'] = intersect_beds(gata, c3)"
   ]
  },
  {
   "cell_type": "code",
   "execution_count": 18,
   "id": "51e8ff3e-8c9b-4ab4-a849-2e1cfa980d81",
   "metadata": {},
   "outputs": [
    {
     "name": "stdout",
     "output_type": "stream",
     "text": [
      "WARNING:tensorflow:No training configuration found in the save file, so the model was *not* compiled. Compile it manually.\n",
      "N rows = 2703\n"
     ]
    },
    {
     "name": "stderr",
     "output_type": "stream",
     "text": [
      "2703it [03:26, 13.10it/s]\n"
     ]
    },
    {
     "name": "stdout",
     "output_type": "stream",
     "text": [
      "WARNING:tensorflow:No training configuration found in the save file, so the model was *not* compiled. Compile it manually.\n",
      "N rows = 3403\n"
     ]
    },
    {
     "name": "stderr",
     "output_type": "stream",
     "text": [
      "3403it [04:45, 11.93it/s]\n"
     ]
    },
    {
     "name": "stdout",
     "output_type": "stream",
     "text": [
      "WARNING:tensorflow:No training configuration found in the save file, so the model was *not* compiled. Compile it manually.\n",
      "N rows = 4985\n"
     ]
    },
    {
     "name": "stderr",
     "output_type": "stream",
     "text": [
      "4985it [07:07, 11.66it/s]\n"
     ]
    },
    {
     "name": "stdout",
     "output_type": "stream",
     "text": [
      "WARNING:tensorflow:No training configuration found in the save file, so the model was *not* compiled. Compile it manually.\n",
      "N rows = 1776\n"
     ]
    },
    {
     "name": "stderr",
     "output_type": "stream",
     "text": [
      "1776it [03:00,  9.82it/s]\n"
     ]
    }
   ],
   "source": [
    "model_path = '../doubletRemoved_models/C3_chrombpnet_nobias.h5'\n",
    "for label, df in intersects.items():\n",
    "    results = util.perturb_seqs(df, model_path, fasta_extractor, 2114, 'dinuc', f'../results/{label}')\n"
   ]
  },
  {
   "cell_type": "code",
   "execution_count": 11,
   "id": "3af40e13-e9f6-42d0-8b3f-f5d395080c08",
   "metadata": {},
   "outputs": [],
   "source": [
    "result_summaries_list = []\n",
    "output = 'count'\n",
    "model = 'C1'\n",
    "for tf in intersects.keys():\n",
    "    results = util.dict_load(f'../results/{tf}_model_{model}_chrombpnet_nobias_10_dinuc.pickle')\n",
    "    for perturb in ['wt', 'dishuffled']:\n",
    "\n",
    "        vals = results[f'{perturb}_{output}']\n",
    "        df = pd.DataFrame({'value': vals})\n",
    "        df['TF'] = tf\n",
    "        df['model'] = model\n",
    "        df['output'] = output\n",
    "        df['perturb'] = perturb\n",
    "        df = df.reset_index()\n",
    "        result_summaries_list.append(df)\n",
    "result_summaries = pd.concat(result_summaries_list)"
   ]
  },
  {
   "cell_type": "code",
   "execution_count": 16,
   "id": "cd675993-5eb6-4a4d-a3af-b0f3cbca61ad",
   "metadata": {},
   "outputs": [
    {
     "data": {
      "text/plain": [
       "<Axes: xlabel='TF', ylabel='value'>"
      ]
     },
     "execution_count": 16,
     "metadata": {},
     "output_type": "execute_result"
    },
    {
     "data": {
      "image/png": "[encoded data removed]",
      "text/plain": [
       "<Figure size 640x480 with 1 Axes>"
      ]
     },
     "metadata": {},
     "output_type": "display_data"
    }
   ],
   "source": [
    "sns.boxplot(data=result_summaries[result_summaries['perturb']=='wt'], x='TF', y='value')"
   ]
  },
  {
   "cell_type": "code",
   "execution_count": 17,
   "id": "f561d134-776c-4e1a-ba78-36ef105cd7ab",
   "metadata": {},
   "outputs": [
    {
     "data": {
      "text/plain": [
       "<Axes: xlabel='TF', ylabel='value'>"
      ]
     },
     "execution_count": 17,
     "metadata": {},
     "output_type": "execute_result"
    },
    {
     "data": {
      "image/png": "[encoded data removed]",
      "text/plain": [
       "<Figure size 640x480 with 1 Axes>"
      ]
     },
     "metadata": {},
     "output_type": "display_data"
    }
   ],
   "source": [
    "sns.boxplot(data=result_summaries[result_summaries['perturb']=='dishuffled'], x='TF', y='value')"
   ]
  },
  {
   "cell_type": "code",
   "execution_count": null,
   "id": "382c55cf-bcf6-48c8-9ad3-e1d89f15ea7e",
   "metadata": {},
   "outputs": [],
   "source": []
  }
 ],
 "metadata": {
  "kernelspec": {
   "display_name": "cbp",
   "language": "python",
   "name": "cbp"
  },
  "language_info": {
   "codemirror_mode": {
    "name": "ipython",
    "version": 3
   },
   "file_extension": ".py",
   "mimetype": "text/x-python",
   "name": "python",
   "nbconvert_exporter": "python",
   "pygments_lexer": "ipython3",
   "version": "3.9.16"
  }
 },
 "nbformat": 4,
 "nbformat_minor": 5
}
