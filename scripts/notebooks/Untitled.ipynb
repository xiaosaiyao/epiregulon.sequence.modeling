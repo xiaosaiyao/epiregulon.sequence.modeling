{
 "cells": [
  {
   "cell_type": "code",
   "execution_count": 4,
   "id": "a75eff05-b28e-4f16-8390-c20a8aae4f74",
   "metadata": {},
   "outputs": [],
   "source": [
    "from chrombpnet.helpers.preprocessing import reads_to_bigwig"
   ]
  },
  {
   "cell_type": "code",
   "execution_count": null,
   "id": "bb254360-ae51-4dd6-9e6e-e22fe4826493",
   "metadata": {},
   "outputs": [],
   "source": []
  }
 ],
 "metadata": {
  "kernelspec": {
   "display_name": "chrombpnet_env",
   "language": "python",
   "name": "chrombpnet_env"
  },
  "language_info": {
   "codemirror_mode": {
    "name": "ipython",
    "version": 3
   },
   "file_extension": ".py",
   "mimetype": "text/x-python",
   "name": "python",
   "nbconvert_exporter": "python",
   "pygments_lexer": "ipython3",
   "version": "3.8.17"
  }
 },
 "nbformat": 4,
 "nbformat_minor": 5
}
