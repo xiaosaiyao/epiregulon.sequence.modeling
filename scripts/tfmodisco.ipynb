{
 "cells": [
  {
   "cell_type": "code",
   "execution_count": 2,
   "id": "b5216299-1756-4eae-91a7-88173d4ab67c",
   "metadata": {},
   "outputs": [],
   "source": [
    "import deepdish as dd\n",
    "import json\n",
    "import numpy as np\n",
    "import tensorflow as tf\n",
    "import pandas as pd\n",
    "import shap\n",
    "import pyfaidx\n",
    "import shutil\n",
    "import os\n",
    "import TF_score\n",
    "from tqdm import tqdm\n",
    "\n",
    "import shap\n",
    "from collections import OrderedDict\n",
    "import modisco\n",
    "from deeplift.dinuc_shuffle import dinuc_shuffle"
   ]
  },
  {
   "cell_type": "code",
   "execution_count": 1,
   "id": "00082af7-77c5-4227-8f0c-ba67f8a23122",
   "metadata": {},
   "outputs": [
    {
     "ename": "NameError",
     "evalue": "name 'tf' is not defined",
     "output_type": "error",
     "traceback": [
      "\u001b[0;31m---------------------------------------------------------------------------\u001b[0m",
      "\u001b[0;31mNameError\u001b[0m                                 Traceback (most recent call last)",
      "Cell \u001b[0;32mIn[1], line 2\u001b[0m\n\u001b[1;32m      1\u001b[0m \u001b[38;5;66;03m# disable eager execution so shap deep explainer wont break\u001b[39;00m\n\u001b[0;32m----> 2\u001b[0m \u001b[43mtf\u001b[49m\u001b[38;5;241m.\u001b[39mcompat\u001b[38;5;241m.\u001b[39mv1\u001b[38;5;241m.\u001b[39mdisable_eager_execution()\n",
      "\u001b[0;31mNameError\u001b[0m: name 'tf' is not defined"
     ]
    }
   ],
   "source": [
    "# disable eager execution so shap deep explainer wont break\n",
    "tf.compat.v1.disable_eager_execution()"
   ]
  },
  {
   "cell_type": "code",
   "execution_count": null,
   "id": "7b9a57c0-e123-4d6b-a25c-a7e1c25978c2",
   "metadata": {},
   "outputs": [],
   "source": [
    "def dna_to_one_hot(seqs):\n",
    "    \"\"\"\n",
    "    Converts a list of DNA (\"ACGT\") sequences to one-hot encodings, where the\n",
    "    position of 1s is ordered alphabetically by \"ACGT\". `seqs` must be a list\n",
    "    of N strings, where every string is the same length L. Returns an N x L x 4\n",
    "    NumPy array of one-hot encodings, in the same order as the input sequences.\n",
    "    All bases will be converted to upper-case prior to performing the encoding.\n",
    "    Any bases that are not \"ACGT\" will be given an encoding of all 0s.\n",
    "    \"\"\"\n",
    "    seq_len = len(seqs[0])\n",
    "    assert np.all(np.array([len(s) for s in seqs]) == seq_len)\n",
    "\n",
    "    # Join all sequences together into one long string, all uppercase\n",
    "    seq_concat = \"\".join(seqs).upper() + \"ACGT\"\n",
    "    # Add one example of each base, so np.unique doesn't miss indices later\n",
    "\n",
    "    one_hot_map = np.identity(5)[:, :-1].astype(np.int8)\n",
    "\n",
    "    # Convert string into array of ASCII character codes;\n",
    "    base_vals = np.frombuffer(bytearray(seq_concat, \"utf8\"), dtype=np.int8)\n",
    "\n",
    "    # Anything that's not an A, C, G, or T gets assigned a higher code\n",
    "    base_vals[~np.isin(base_vals, np.array([65, 67, 71, 84]))] = 85\n",
    "\n",
    "    # Convert the codes into indices in [0, 4], in ascending order by code\n",
    "    _, base_inds = np.unique(base_vals, return_inverse=True)\n",
    "\n",
    "    # Get the one-hot encoding for those indices, and reshape back to separate\n",
    "    return one_hot_map[base_inds[:-4]].reshape((len(seqs), seq_len, 4))\n",
    "\n",
    "def get_seq(peaks_df, genome, width):\n",
    "    \"\"\"\n",
    "    Same as get_cts, but fetches sequence from a given genome.\n",
    "    \"\"\"\n",
    "    vals = []\n",
    "    peaks_used = []\n",
    "    for i, r in peaks_df.iterrows():\n",
    "        sequence = str(genome[r[0]][(r[1] - width//2):(r[1] + width//2)])\n",
    "        if len(sequence) == width:\n",
    "            vals.append(sequence)\n",
    "            peaks_used.append(True)\n",
    "        else:\n",
    "            peaks_used.append(False)\n",
    "\n",
    "    return dna_to_one_hot(vals)\n",
    "\n",
    "\n",
    "def get_weightedsum_meannormed_logits(model):\n",
    "    # Assumes the 0 task track is for profile\n",
    "    # See Google slide deck for explanations\n",
    "    # We meannorm as per section titled \n",
    "    # \"Adjustments for Softmax Layers\" in the DeepLIFT paper\n",
    "    meannormed_logits = (model.outputs[0] - \\\n",
    "                         tf.reduce_mean(model.outputs[0], axis=1)[:, None])\n",
    "\n",
    "    # 'stop_gradient' will prevent importance from being propagated\n",
    "    # through this operation; we do this because we just want to treat\n",
    "    # the post-softmax probabilities as 'weights' on the different \n",
    "    # logits, without having the network explain how the probabilities\n",
    "    # themselves were derived. Could be worth contrasting explanations\n",
    "    # derived with and without stop_gradient enabled...\n",
    "    stopgrad_meannormed_logits = tf.stop_gradient(meannormed_logits)\n",
    "    softmax_out = tf.nn.softmax(stopgrad_meannormed_logits, axis=1)\n",
    "    \n",
    "    # Weight the logits according to the softmax probabilities, take\n",
    "    # the sum for each example. This mirrors what was done for the\n",
    "    # bpnet paper.\n",
    "    weightedsum_meannormed_logits = tf.reduce_sum(softmax_out * \\\n",
    "                                                  meannormed_logits,\n",
    "                                                  axis=1)\n",
    "    \n",
    "    return weightedsum_meannormed_logits\n",
    "\n",
    "def shuffle_several_times(s,numshuffles=20):\n",
    "    if len(s)==2:\n",
    "        return [np.array([dinuc_shuffle(s[0]) for i in range(numshuffles)]),\n",
    "                np.array([s[1] for i in range(numshuffles)])]\n",
    "    else:\n",
    "        return [np.array([dinuc_shuffle(s[0]) for i in range(numshuffles)])]\n",
    "\n",
    "def combine_mult_and_diffref(mult, orig_inp, bg_data):\n",
    "    to_return = []\n",
    "    \n",
    "    for l in [0]:\n",
    "        projected_hypothetical_contribs = \\\n",
    "            np.zeros_like(bg_data[l]).astype(\"float\")\n",
    "        assert len(orig_inp[l].shape)==2\n",
    "        \n",
    "        # At each position in the input sequence, we iterate over the\n",
    "        # one-hot encoding possibilities (eg: for genomic sequence, \n",
    "        # this is ACGT i.e. 1000, 0100, 0010 and 0001) and compute the\n",
    "        # hypothetical difference-from-reference in each case. We then \n",
    "        # multiply the hypothetical differences-from-reference with \n",
    "        # the multipliers to get the hypothetical contributions. For \n",
    "        # each of the one-hot encoding possibilities, the hypothetical\n",
    "        # contributions are then summed across the ACGT axis to \n",
    "        # estimate the total hypothetical contribution of each \n",
    "        # position. This per-position hypothetical contribution is then\n",
    "        # assigned (\"projected\") onto whichever base was present in the\n",
    "        # hypothetical sequence. The reason this is a fast estimate of\n",
    "        # what the importance scores *would* look like if different \n",
    "        # bases were present in the underlying sequence is that the\n",
    "        # multipliers are computed once using the original sequence, \n",
    "        # and are not computed again for each hypothetical sequence.\n",
    "        for i in range(orig_inp[l].shape[-1]):\n",
    "            hypothetical_input = np.zeros_like(orig_inp[l]).astype(\"float\")\n",
    "            hypothetical_input[:, i] = 1.0\n",
    "            hypothetical_difference_from_reference = \\\n",
    "                (hypothetical_input[None, :, :] - bg_data[l])\n",
    "            hypothetical_contribs = hypothetical_difference_from_reference * \\\n",
    "                                    mult[l]\n",
    "            projected_hypothetical_contribs[:, :, i] = \\\n",
    "                np.sum(hypothetical_contribs, axis=-1) \n",
    "            \n",
    "        to_return.append(np.mean(projected_hypothetical_contribs,axis=0))\n",
    "\n",
    "    if len(orig_inp)>1:\n",
    "        to_return.append(np.zeros_like(orig_inp[1]))\n",
    "    \n",
    "    return to_return\n",
    "\n",
    "def generate_shap_dict(seqs, scores):\n",
    "    assert(seqs.shape==scores.shape)\n",
    "    assert(seqs.shape[2]==4)\n",
    "\n",
    "    # construct a dictionary for the raw shap scores and the\n",
    "    # the projected shap scores\n",
    "    # MODISCO workflow expects one hot sequences with shape (None,4,inputlen)\n",
    "    d = {\n",
    "            'raw': {'seq': np.transpose(seqs, (0, 2, 1)).astype(np.int8)},\n",
    "            'shap': {'seq': np.transpose(scores, (0, 2, 1)).astype(np.float16)},\n",
    "            'projected_shap': {'seq': np.transpose(seqs*scores, (0, 2, 1)).astype(np.float16)}\n",
    "        }\n",
    "\n",
    "    return d\n"
   ]
  },
  {
   "cell_type": "code",
   "execution_count": null,
   "id": "48cd3f03-c197-4dd1-b40a-d5a110505ab2",
   "metadata": {},
   "outputs": [],
   "source": [
    "model = TF_score.load_model_wrapper(\"doubletRemoved_models/C1_chrombpnet_nobias.h5\")\n",
    "\n",
    "\n",
    "\n",
    "# seqs, output_prefix, profile_or_counts"
   ]
  },
  {
   "cell_type": "code",
   "execution_count": 26,
   "id": "784d9ce5-3aea-4c77-b9e9-1f3c9de0b717",
   "metadata": {},
   "outputs": [],
   "source": [
    "genome = pyfaidx.Fasta(\"../genomes/hg38.fa\")\n",
    "regions_df = pd.read_csv('training_data/peaks/C1_peaks.bed', sep='\\t', header=None).iloc[:5000]"
   ]
  },
  {
   "cell_type": "code",
   "execution_count": 27,
   "id": "4a714634-9874-4403-9709-e542f7155efd",
   "metadata": {},
   "outputs": [],
   "source": [
    "regions_df.to_csv('sample_peaks.bed')"
   ]
  },
  {
   "cell_type": "code",
   "execution_count": 28,
   "id": "f621a5d9-ad73-487b-86be-7d0d76c9234c",
   "metadata": {},
   "outputs": [],
   "source": [
    "seqs = get_seq(regions_df, genome, 2114)"
   ]
  },
  {
   "cell_type": "code",
   "execution_count": 29,
   "id": "751a8e44-5ab7-4910-aff6-dd63e0fec967",
   "metadata": {},
   "outputs": [],
   "source": [
    "genome.close()"
   ]
  },
  {
   "cell_type": "code",
   "execution_count": 30,
   "id": "e8a37b89-c9db-4d8f-892e-ce1bd1821782",
   "metadata": {},
   "outputs": [],
   "source": [
    "profile_model_input = model.input\n",
    "profile_input = seqs"
   ]
  },
  {
   "cell_type": "code",
   "execution_count": 31,
   "id": "3319a617-98a5-43ea-a3dc-35cd82b6403a",
   "metadata": {},
   "outputs": [],
   "source": [
    "weightedsum_meannormed_logits = get_weightedsum_meannormed_logits(model)"
   ]
  },
  {
   "cell_type": "code",
   "execution_count": 32,
   "id": "c5d3a49e-d013-4300-b5c4-8bc5f8c23dae",
   "metadata": {},
   "outputs": [
    {
     "name": "stdout",
     "output_type": "stream",
     "text": [
      "Warning:  AddV2 used in model but handling of op is not specified by shap; will use original  gradients\n",
      "Warning:  AddV2 used in model but handling of op is not specified by shap; will use original  gradients\n",
      "Warning:  AddV2 used in model but handling of op is not specified by shap; will use original  gradients\n",
      "Warning:  AddV2 used in model but handling of op is not specified by shap; will use original  gradients\n",
      "Warning:  AddV2 used in model but handling of op is not specified by shap; will use original  gradients\n",
      "Warning:  AddV2 used in model but handling of op is not specified by shap; will use original  gradients\n",
      "Warning:  AddV2 used in model but handling of op is not specified by shap; will use original  gradients\n",
      "Warning:  AddV2 used in model but handling of op is not specified by shap; will use original  gradients\n",
      "Warning:  StopGradient used in model but handling of op is not specified by shap; will use original  gradients\n",
      "Warning:  SpaceToBatchND used in model but handling of op is not specified by shap; will use original  gradients\n",
      "Warning:  BatchToSpaceND used in model but handling of op is not specified by shap; will use original  gradients\n",
      "Warning:  SpaceToBatchND used in model but handling of op is not specified by shap; will use original  gradients\n",
      "Warning:  BatchToSpaceND used in model but handling of op is not specified by shap; will use original  gradients\n",
      "Warning:  SpaceToBatchND used in model but handling of op is not specified by shap; will use original  gradients\n",
      "Warning:  BatchToSpaceND used in model but handling of op is not specified by shap; will use original  gradients\n",
      "Warning:  SpaceToBatchND used in model but handling of op is not specified by shap; will use original  gradients\n",
      "Warning:  BatchToSpaceND used in model but handling of op is not specified by shap; will use original  gradients\n",
      "Warning:  SpaceToBatchND used in model but handling of op is not specified by shap; will use original  gradients\n",
      "Warning:  BatchToSpaceND used in model but handling of op is not specified by shap; will use original  gradients\n",
      "Warning:  SpaceToBatchND used in model but handling of op is not specified by shap; will use original  gradients\n",
      "Warning:  BatchToSpaceND used in model but handling of op is not specified by shap; will use original  gradients\n",
      "Warning:  SpaceToBatchND used in model but handling of op is not specified by shap; will use original  gradients\n",
      "Warning:  BatchToSpaceND used in model but handling of op is not specified by shap; will use original  gradients\n",
      "Warning:  SpaceToBatchND used in model but handling of op is not specified by shap; will use original  gradients\n",
      "Warning:  BatchToSpaceND used in model but handling of op is not specified by shap; will use original  gradients\n"
     ]
    }
   ],
   "source": [
    "profile_model_profile_explainer = shap.explainers.deep.TFDeepExplainer(\n",
    "    (profile_model_input, weightedsum_meannormed_logits),\n",
    "    shuffle_several_times,\n",
    "    combine_mult_and_diffref=combine_mult_and_diffref)"
   ]
  },
  {
   "cell_type": "code",
   "execution_count": 33,
   "id": "a914f543-7e90-4c9b-ba66-9ab58048c51c",
   "metadata": {},
   "outputs": [
    {
     "name": "stdout",
     "output_type": "stream",
     "text": [
      "Done 0 examples of 5000\n",
      "Done 100 examples of 5000\n",
      "Done 200 examples of 5000\n",
      "Done 300 examples of 5000\n",
      "Done 400 examples of 5000\n",
      "Done 500 examples of 5000\n",
      "Done 600 examples of 5000\n",
      "Done 700 examples of 5000\n",
      "Done 800 examples of 5000\n",
      "Done 900 examples of 5000\n",
      "Done 1000 examples of 5000\n",
      "Done 1100 examples of 5000\n",
      "Done 1200 examples of 5000\n",
      "Done 1300 examples of 5000\n",
      "Done 1400 examples of 5000\n",
      "Done 1500 examples of 5000\n",
      "Done 1600 examples of 5000\n",
      "Done 1700 examples of 5000\n",
      "Done 1800 examples of 5000\n",
      "Done 1900 examples of 5000\n",
      "Done 2000 examples of 5000\n",
      "Done 2100 examples of 5000\n",
      "Done 2200 examples of 5000\n",
      "Done 2300 examples of 5000\n",
      "Done 2400 examples of 5000\n",
      "Done 2500 examples of 5000\n",
      "Done 2600 examples of 5000\n",
      "Done 2700 examples of 5000\n",
      "Done 2800 examples of 5000\n",
      "Done 2900 examples of 5000\n",
      "Done 3000 examples of 5000\n",
      "Done 3100 examples of 5000\n",
      "Done 3200 examples of 5000\n",
      "Done 3300 examples of 5000\n",
      "Done 3400 examples of 5000\n",
      "Done 3500 examples of 5000\n",
      "Done 3600 examples of 5000\n",
      "Done 3700 examples of 5000\n",
      "Done 3800 examples of 5000\n",
      "Done 3900 examples of 5000\n",
      "Done 4000 examples of 5000\n",
      "Done 4100 examples of 5000\n",
      "Done 4200 examples of 5000\n",
      "Done 4300 examples of 5000\n",
      "Done 4400 examples of 5000\n",
      "Done 4500 examples of 5000\n",
      "Done 4600 examples of 5000\n",
      "Done 4700 examples of 5000\n",
      "Done 4800 examples of 5000\n",
      "Done 4900 examples of 5000\n"
     ]
    }
   ],
   "source": [
    "profile_shap_scores = profile_model_profile_explainer.shap_values(\n",
    "    profile_input, progress_message=100)"
   ]
  },
  {
   "cell_type": "code",
   "execution_count": 34,
   "id": "3e056bd2-c741-404f-977b-8bb0253d120f",
   "metadata": {},
   "outputs": [],
   "source": [
    "profile_scores_dict = generate_shap_dict(seqs, profile_shap_scores)"
   ]
  },
  {
   "cell_type": "code",
   "execution_count": 35,
   "id": "da50c57e-5b7b-4ff0-bcfe-81ec43f39c0f",
   "metadata": {},
   "outputs": [],
   "source": [
    "np.savez('ohe.npz', profile_scores_dict['raw']['seq'])"
   ]
  },
  {
   "cell_type": "code",
   "execution_count": 36,
   "id": "fc4aef2a-24b7-4394-8baa-26aa90695b5b",
   "metadata": {},
   "outputs": [],
   "source": [
    "np.savez('attr.npz', profile_scores_dict['shap']['seq'])"
   ]
  },
  {
   "cell_type": "code",
   "execution_count": 63,
   "id": "6ccf75da-82cd-4169-9716-f544d45ccbb8",
   "metadata": {},
   "outputs": [
    {
     "name": "stdout",
     "output_type": "stream",
     "text": [
      "Saving 'profile' scores\n"
     ]
    }
   ],
   "source": [
    "# save the dictionary in HDF5 formnat\n",
    "print(\"Saving 'profile' scores\")\n",
    "output_prefix = \"test\"\n",
    "scores_path = f\"{output_prefix}.profile_scores.h5\"\n",
    "dd.io.save(scores_path,\n",
    "            profile_scores_dict,\n",
    "            compression='blosc')\n"
   ]
  },
  {
   "cell_type": "code",
   "execution_count": 64,
   "id": "f34f2e24-1035-46bf-ae17-8102363d30da",
   "metadata": {},
   "outputs": [],
   "source": [
    "output_dir = '.'\n",
    "save_path = os.path.join(output_dir,'modisco_results_allChroms_profile.hdf5')\n",
    "seqlet_path = os.path.join(output_dir,'seqlets_profile.txt')"
   ]
  },
  {
   "cell_type": "code",
   "execution_count": 65,
   "id": "d465061a-6d60-4dc6-92dc-4bed52ecec2c",
   "metadata": {},
   "outputs": [],
   "source": [
    "scores = dd.io.load(scores_path)\n"
   ]
  },
  {
   "cell_type": "code",
   "execution_count": 66,
   "id": "b4bd5626-ab26-458b-8b89-344f20adf2ea",
   "metadata": {},
   "outputs": [],
   "source": [
    "crop = 1000"
   ]
  },
  {
   "cell_type": "code",
   "execution_count": 67,
   "id": "e5a261c9-e6c6-42e3-a318-ad7d0f83c744",
   "metadata": {},
   "outputs": [],
   "source": [
    "shap_scores_seq = []\n",
    "proj_shap_scores_seq = []\n",
    "one_hot_seqs = [] \n",
    "center = scores['shap']['seq'].shape[-1]//2\n",
    "start = center - crop//2\n",
    "end = center + crop//2\n",
    "for i in scores['shap']['seq']:\n",
    "    shap_scores_seq.append(i[:,start:end].transpose())\n",
    "\n",
    "\n",
    "for i in scores['projected_shap']['seq']:\n",
    "    proj_shap_scores_seq.append(i[:,start:end].transpose())\n",
    "\n",
    "for i in scores['raw']['seq']:\n",
    "    one_hot_seqs.append(i[:,start:end].transpose())"
   ]
  },
  {
   "cell_type": "code",
   "execution_count": 68,
   "id": "8f286d1f-d6b4-4830-ad18-9407c530015f",
   "metadata": {},
   "outputs": [],
   "source": [
    "tasks = ['task0']\n",
    "task_to_scores = OrderedDict()\n",
    "task_to_hyp_scores = OrderedDict()\n",
    "\n",
    "onehot_data = one_hot_seqs\n",
    "task_to_scores['task0']  = proj_shap_scores_seq\n",
    "task_to_hyp_scores['task0']  = shap_scores_seq"
   ]
  },
  {
   "cell_type": "code",
   "execution_count": 69,
   "id": "ba2add5b-17f7-4c4c-962b-8be2fadd6e23",
   "metadata": {},
   "outputs": [],
   "source": [
    "max_seqlets = 50000"
   ]
  },
  {
   "cell_type": "code",
   "execution_count": 70,
   "id": "5042919a-9a0c-4dab-b719-684a7c9a5156",
   "metadata": {},
   "outputs": [
    {
     "name": "stdout",
     "output_type": "stream",
     "text": [
      "MEMORY 2.79035904\n",
      "On task task0\n",
      "Computing windowed sums on original\n",
      "Generating null dist\n",
      "peak(mu)= -0.00048827743530273436\n",
      "Computing threshold\n",
      "For increasing = True , the minimum IR precision was 0.47004155200366776 occurring at 0.0 implying a frac_neg of 0.8869403889697421\n",
      "To be conservative, adjusted frac neg is 0.95\n",
      "For increasing = False , the minimum IR precision was 0.0 occurring at -1.685609523387839e-06 implying a frac_neg of 1.00000010000001e-07\n",
      "To be conservative, adjusted frac neg is 0.95\n",
      "Thresholds from null dist were -0.07861328125  and  0.075439453125 with frac passing 0.013730886850152906\n",
      "Passing windows frac was 0.013730886850152906 , which is below  0.03 ; adjusting\n",
      "Final raw thresholds are -0.0570068359375  and  0.0570068359375\n",
      "Final transformed thresholds are -0.9699694189602447  and  0.9699694189602447\n"
     ]
    },
    {
     "data": {
      "image/png": "[encoded data removed]",
      "text/plain": [
       "<Figure size 640x480 with 2 Axes>"
      ]
     },
     "metadata": {},
     "output_type": "display_data"
    },
    {
     "name": "stdout",
     "output_type": "stream",
     "text": [
      "Got 216 coords\n",
      "After resolving overlaps, got 216 seqlets\n",
      "Across all tasks, the weakest transformed threshold used was: 0.9698694189602447\n",
      "MEMORY 2.793562112\n",
      "216 identified in total\n",
      "1 activity patterns with support >= 100 out of 2 possible patterns\n",
      "Metacluster sizes:  [212]\n",
      "Idx to activities:  {0: '1'}\n",
      "MEMORY 2.793562112\n",
      "On metacluster 0\n",
      "Metacluster size 212\n",
      "Relevant tasks:  ('task0',)\n",
      "Relevant signs:  (1,)\n",
      "TfModiscoSeqletsToPatternsFactory: seed=1234\n",
      "(Round 1) num seqlets: 212\n",
      "(Round 1) Computing coarse affmat\n",
      "MEMORY 2.79359488\n",
      "Beginning embedding computation\n",
      "MEMORY 2.79359488\n",
      "At the beginning of embedding call\n",
      "MEMORY 2.79359488\n",
      "before computing embeddings fwd\n",
      "MEMORY 2.79359488\n"
     ]
    },
    {
     "name": "stderr",
     "output_type": "stream",
     "text": [
      "[Parallel(n_jobs=10)]: Using backend LokyBackend with 10 concurrent workers.\n",
      "[Parallel(n_jobs=10)]: Done  30 tasks      | elapsed:   21.5s\n",
      "[Parallel(n_jobs=10)]: Done 180 tasks      | elapsed:   46.0s\n",
      "[Parallel(n_jobs=10)]: Done 212 out of 212 | elapsed:   51.2s finished\n",
      "[Parallel(n_jobs=10)]: Using backend LokyBackend with 10 concurrent workers.\n"
     ]
    },
    {
     "name": "stdout",
     "output_type": "stream",
     "text": [
      "after computing embeddings fwd\n",
      "MEMORY 2.801475584\n"
     ]
    },
    {
     "name": "stderr",
     "output_type": "stream",
     "text": [
      "[Parallel(n_jobs=10)]: Done  30 tasks      | elapsed:    4.8s\n",
      "[Parallel(n_jobs=10)]: Done 180 tasks      | elapsed:   27.0s\n",
      "[Parallel(n_jobs=10)]: Done 212 out of 212 | elapsed:   31.9s finished\n"
     ]
    },
    {
     "name": "stdout",
     "output_type": "stream",
     "text": [
      "after computing embeddings rev\n",
      "MEMORY 2.810085376\n",
      "before computing sparse embeddings fwd\n",
      "MEMORY 2.810085376\n",
      "Constructing csr matrix...\n",
      "csr matrix made in 0.12185192108154297 s\n",
      "after computing sparse embeddings fwd\n",
      "MEMORY 2.810126336\n",
      "before computing sparse embeddings rev\n",
      "MEMORY 2.810126336\n",
      "Constructing csr matrix...\n",
      "csr matrix made in 0.03655719757080078 s\n",
      "after computing sparse embeddings rev\n",
      "MEMORY 2.810175488\n",
      "Finished embedding computation in 83.66 s\n",
      "MEMORY 2.800738304\n",
      "Starting affinity matrix computations\n",
      "MEMORY 2.800738304\n",
      "Batching in slices of size 212\n"
     ]
    },
    {
     "name": "stderr",
     "output_type": "stream",
     "text": [
      "100%|██████████| 1/1 [00:01<00:00,  1.47s/it]"
     ]
    },
    {
     "name": "stdout",
     "output_type": "stream",
     "text": [
      "Finished affinity matrix computations in 1.48 s\n",
      "MEMORY 2.80082432\n"
     ]
    },
    {
     "name": "stderr",
     "output_type": "stream",
     "text": [
      "\n"
     ]
    },
    {
     "name": "stdout",
     "output_type": "stream",
     "text": [
      "(Round 1) Computed coarse affmat\n",
      "MEMORY 2.80082432\n",
      "(Round 1) Computing affinity matrix on nearest neighbors\n",
      "MEMORY 2.80082432\n",
      "Launching nearest neighbors affmat calculation job\n",
      "MEMORY 2.800832512\n",
      "Parallel runs completed\n",
      "MEMORY 2.80864768\n",
      "Job completed in: 18.33 s\n",
      "MEMORY 2.808676352\n",
      "Launching nearest neighbors affmat calculation job\n",
      "MEMORY 2.808676352\n",
      "Parallel runs completed\n",
      "MEMORY 2.812694528\n",
      "Job completed in: 18.17 s\n",
      "MEMORY 2.812706816\n",
      "(Round 1) Computed affinity matrix on nearest neighbors in 36.78 s\n",
      "MEMORY 2.812706816\n",
      "Filtered down to 212 of 212\n",
      "(Round 1) Retained 212 rows out of 212 after filtering\n",
      "MEMORY 2.812772352\n",
      "(Round 1) Computing density adapted affmat\n",
      "MEMORY 2.812796928\n",
      "Symmetrizing nearest neighbors\n",
      "Computing betas for density adaptation\n",
      "Computing normalizing denominators\n",
      "(Round 1) Computing clustering\n",
      "MEMORY 2.813636608\n",
      "Beginning preprocessing + Leiden\n",
      "Affmat shape: 212\n"
     ]
    },
    {
     "name": "stderr",
     "output_type": "stream",
     "text": [
      "[Parallel(n_jobs=10)]: Using backend LokyBackend with 10 concurrent workers.\n"
     ]
    },
    {
     "ename": "RuntimeError",
     "evalue": "----\nERROR:\nTraceback (most recent call last):\n  File \"/gstore/home/toneyans/anaconda3/envs/cbp/lib/python3.9/site-packages/modisco/cluster/run_leiden\", line 5, in <module>\n    import igraph as ig\nModuleNotFoundError: No module named 'igraph'\n\n----\nSTDOUT:\n",
     "output_type": "error",
     "traceback": [
      "\u001b[0;31m---------------------------------------------------------------------------\u001b[0m",
      "\u001b[0;31m_RemoteTraceback\u001b[0m                          Traceback (most recent call last)",
      "\u001b[0;31m_RemoteTraceback\u001b[0m: \n\"\"\"\nTraceback (most recent call last):\n  File \"/gstore/home/toneyans/anaconda3/envs/cbp/lib/python3.9/site-packages/joblib/externals/loky/process_executor.py\", line 463, in _process_worker\n    r = call_item()\n  File \"/gstore/home/toneyans/anaconda3/envs/cbp/lib/python3.9/site-packages/joblib/externals/loky/process_executor.py\", line 291, in __call__\n    return self.fn(*self.args, **self.kwargs)\n  File \"/gstore/home/toneyans/anaconda3/envs/cbp/lib/python3.9/site-packages/joblib/parallel.py\", line 588, in __call__\n    return [func(*args, **kwargs)\n  File \"/gstore/home/toneyans/anaconda3/envs/cbp/lib/python3.9/site-packages/joblib/parallel.py\", line 588, in <listcomp>\n    return [func(*args, **kwargs)\n  File \"/gstore/home/toneyans/anaconda3/envs/cbp/lib/python3.9/site-packages/modisco/cluster/core.py\", line 174, in run_leiden\n    raise RuntimeError(\"----\\nERROR:\\n\"\nRuntimeError: ----\nERROR:\nTraceback (most recent call last):\n  File \"/gstore/home/toneyans/anaconda3/envs/cbp/lib/python3.9/site-packages/modisco/cluster/run_leiden\", line 5, in <module>\n    import igraph as ig\nModuleNotFoundError: No module named 'igraph'\n\n----\nSTDOUT:\n\n\"\"\"",
      "\nThe above exception was the direct cause of the following exception:\n",
      "\u001b[0;31mRuntimeError\u001b[0m                              Traceback (most recent call last)",
      "Cell \u001b[0;32mIn[70], line 1\u001b[0m\n\u001b[0;32m----> 1\u001b[0m tfmodisco_results \u001b[38;5;241m=\u001b[39m \u001b[43mmodisco\u001b[49m\u001b[38;5;241;43m.\u001b[39;49m\u001b[43mtfmodisco_workflow\u001b[49m\u001b[38;5;241;43m.\u001b[39;49m\u001b[43mworkflow\u001b[49m\u001b[38;5;241;43m.\u001b[39;49m\u001b[43mTfModiscoWorkflow\u001b[49m\u001b[43m(\u001b[49m\n\u001b[1;32m      2\u001b[0m \u001b[43m                    \u001b[49m\u001b[43mmin_metacluster_size_frac\u001b[49m\u001b[38;5;241;43m=\u001b[39;49m\u001b[38;5;241;43m0.0001\u001b[39;49m\u001b[43m,\u001b[49m\n\u001b[1;32m      3\u001b[0m \u001b[43m                    \u001b[49m\u001b[43mmax_seqlets_per_metacluster\u001b[49m\u001b[38;5;241;43m=\u001b[39;49m\u001b[43mmax_seqlets\u001b[49m\u001b[43m,\u001b[49m\n\u001b[1;32m      4\u001b[0m \u001b[43m                    \u001b[49m\u001b[43msliding_window_size\u001b[49m\u001b[38;5;241;43m=\u001b[39;49m\u001b[38;5;241;43m20\u001b[39;49m\u001b[43m,\u001b[49m\n\u001b[1;32m      5\u001b[0m \u001b[43m                    \u001b[49m\u001b[43mflank_size\u001b[49m\u001b[38;5;241;43m=\u001b[39;49m\u001b[38;5;241;43m5\u001b[39;49m\u001b[43m,\u001b[49m\n\u001b[1;32m      6\u001b[0m \u001b[43m                    \u001b[49m\u001b[43mtarget_seqlet_fdr\u001b[49m\u001b[38;5;241;43m=\u001b[39;49m\u001b[38;5;241;43m0.05\u001b[39;49m\u001b[43m,\u001b[49m\n\u001b[1;32m      7\u001b[0m \u001b[43m                    \u001b[49m\u001b[43mseqlets_to_patterns_factory\u001b[49m\u001b[38;5;241;43m=\u001b[39;49m\u001b[43mmodisco\u001b[49m\u001b[38;5;241;43m.\u001b[39;49m\u001b[43mtfmodisco_workflow\u001b[49m\u001b[38;5;241;43m.\u001b[39;49m\u001b[43mseqlets_to_patterns\u001b[49m\u001b[38;5;241;43m.\u001b[39;49m\u001b[43mTfModiscoSeqletsToPatternsFactory\u001b[49m\u001b[43m(\u001b[49m\n\u001b[1;32m      8\u001b[0m \u001b[43m                        \u001b[49m\u001b[43mn_cores\u001b[49m\u001b[38;5;241;43m=\u001b[39;49m\u001b[38;5;241;43m10\u001b[39;49m\u001b[43m,\u001b[49m\n\u001b[1;32m      9\u001b[0m \u001b[43m                        \u001b[49m\u001b[43mtrim_to_window_size\u001b[49m\u001b[38;5;241;43m=\u001b[39;49m\u001b[38;5;241;43m20\u001b[39;49m\u001b[43m,\u001b[49m\n\u001b[1;32m     10\u001b[0m \u001b[43m                        \u001b[49m\u001b[43minitial_flank_to_add\u001b[49m\u001b[38;5;241;43m=\u001b[39;49m\u001b[38;5;241;43m5\u001b[39;49m\u001b[43m,\u001b[49m\n\u001b[1;32m     11\u001b[0m \u001b[43m                        \u001b[49m\u001b[43mfinal_min_cluster_size\u001b[49m\u001b[38;5;241;43m=\u001b[39;49m\u001b[38;5;241;43m20\u001b[39;49m\u001b[43m)\u001b[49m\u001b[43m)\u001b[49m\u001b[43m(\u001b[49m\u001b[43mtask_names\u001b[49m\u001b[38;5;241;43m=\u001b[39;49m\u001b[43m[\u001b[49m\u001b[38;5;124;43m\"\u001b[39;49m\u001b[38;5;124;43mtask0\u001b[39;49m\u001b[38;5;124;43m\"\u001b[39;49m\u001b[43m]\u001b[49m\u001b[43m,\u001b[49m\n\u001b[1;32m     12\u001b[0m \u001b[43m                            \u001b[49m\u001b[43mcontrib_scores\u001b[49m\u001b[38;5;241;43m=\u001b[39;49m\u001b[43mtask_to_scores\u001b[49m\u001b[43m,\u001b[49m\n\u001b[1;32m     13\u001b[0m \u001b[43m                            \u001b[49m\u001b[43mhypothetical_contribs\u001b[49m\u001b[38;5;241;43m=\u001b[39;49m\u001b[43mtask_to_hyp_scores\u001b[49m\u001b[43m,\u001b[49m\n\u001b[1;32m     14\u001b[0m \u001b[43m                            \u001b[49m\u001b[43mone_hot\u001b[49m\u001b[38;5;241;43m=\u001b[39;49m\u001b[43monehot_data\u001b[49m\u001b[43m)\u001b[49m\n",
      "File \u001b[0;32m~/anaconda3/envs/cbp/lib/python3.9/site-packages/modisco/tfmodisco_workflow/workflow.py:391\u001b[0m, in \u001b[0;36mTfModiscoWorkflow.__call__\u001b[0;34m(self, task_names, contrib_scores, hypothetical_contribs, one_hot, null_per_pos_scores, per_position_contrib_scores, revcomp, other_tracks, just_return_seqlets, plot_save_dir)\u001b[0m\n\u001b[1;32m    379\u001b[0m \u001b[38;5;28;01mif\u001b[39;00m (just_return_seqlets\u001b[38;5;241m==\u001b[39m\u001b[38;5;28;01mFalse\u001b[39;00m):\n\u001b[1;32m    380\u001b[0m     seqlets_to_patterns \u001b[38;5;241m=\u001b[39m \u001b[38;5;28mself\u001b[39m\u001b[38;5;241m.\u001b[39mseqlets_to_patterns_factory(\n\u001b[1;32m    381\u001b[0m       track_set\u001b[38;5;241m=\u001b[39mtrack_set,\n\u001b[1;32m    382\u001b[0m       onehot_track_name\u001b[38;5;241m=\u001b[39m\u001b[38;5;124m\"\u001b[39m\u001b[38;5;124msequence\u001b[39m\u001b[38;5;124m\"\u001b[39m,\n\u001b[0;32m   (...)\u001b[0m\n\u001b[1;32m    389\u001b[0m       track_signs\u001b[38;5;241m=\u001b[39mrelevant_task_signs,\n\u001b[1;32m    390\u001b[0m       other_comparison_track_names\u001b[38;5;241m=\u001b[39m[])\n\u001b[0;32m--> 391\u001b[0m     seqlets_to_patterns_result \u001b[38;5;241m=\u001b[39m \u001b[43mseqlets_to_patterns\u001b[49m\u001b[43m(\u001b[49m\n\u001b[1;32m    392\u001b[0m \u001b[43m                                  \u001b[49m\u001b[43mmetacluster_seqlets\u001b[49m\u001b[43m)\u001b[49m\n\u001b[1;32m    393\u001b[0m \u001b[38;5;28;01melse\u001b[39;00m:\n\u001b[1;32m    394\u001b[0m     seqlets_to_patterns_result \u001b[38;5;241m=\u001b[39m \u001b[38;5;28;01mNone\u001b[39;00m \n",
      "File \u001b[0;32m~/anaconda3/envs/cbp/lib/python3.9/site-packages/modisco/tfmodisco_workflow/seqlets_to_patterns.py:1086\u001b[0m, in \u001b[0;36mTfModiscoSeqletsToPatterns.__call__\u001b[0;34m(self, seqlets)\u001b[0m\n\u001b[1;32m   1080\u001b[0m     sys\u001b[38;5;241m.\u001b[39mstdout\u001b[38;5;241m.\u001b[39mflush() \n\u001b[1;32m   1082\u001b[0m \u001b[38;5;66;03m#cluster_results = clusterer(density_adapted_affmat,\u001b[39;00m\n\u001b[1;32m   1083\u001b[0m \u001b[38;5;66;03m#                            initclusters=filtered_initclusters)\u001b[39;00m\n\u001b[1;32m   1084\u001b[0m \u001b[38;5;66;03m#del density_adapted_affmat\u001b[39;00m\n\u001b[1;32m   1085\u001b[0m \u001b[38;5;66;03m#cluster_results_sets.append(cluster_results)\u001b[39;00m\n\u001b[0;32m-> 1086\u001b[0m cluster_results \u001b[38;5;241m=\u001b[39m \u001b[43mclusterer\u001b[49m\u001b[43m(\u001b[49m\u001b[43mcsr_density_adapted_affmat\u001b[49m\u001b[43m,\u001b[49m\n\u001b[1;32m   1087\u001b[0m \u001b[43m                            \u001b[49m\u001b[43minitclusters\u001b[49m\u001b[38;5;241;43m=\u001b[39;49m\u001b[43mfiltered_initclusters\u001b[49m\u001b[43m)\u001b[49m\n\u001b[1;32m   1088\u001b[0m \u001b[38;5;28;01mdel\u001b[39;00m csr_density_adapted_affmat\n\u001b[1;32m   1090\u001b[0m num_clusters \u001b[38;5;241m=\u001b[39m \u001b[38;5;28mmax\u001b[39m(cluster_results\u001b[38;5;241m.\u001b[39mcluster_indices\u001b[38;5;241m+\u001b[39m\u001b[38;5;241m1\u001b[39m)\n",
      "File \u001b[0;32m~/anaconda3/envs/cbp/lib/python3.9/site-packages/modisco/cluster/core.py:273\u001b[0m, in \u001b[0;36mLeidenClusterParallel.__call__\u001b[0;34m(self, orig_affinity_mat, initclusters)\u001b[0m\n\u001b[1;32m    268\u001b[0m \u001b[38;5;28;01mfor\u001b[39;00m use_initclusters \u001b[38;5;129;01min\u001b[39;00m initclusters_to_try_list:\n\u001b[1;32m    270\u001b[0m     \u001b[38;5;28mprint\u001b[39m(\u001b[38;5;124m\"\u001b[39m\u001b[38;5;124mAffmat shape:\u001b[39m\u001b[38;5;124m\"\u001b[39m,affinity_mat\u001b[38;5;241m.\u001b[39mshape[\u001b[38;5;241m0\u001b[39m])\n\u001b[1;32m    272\u001b[0m     parallel_leiden_results \u001b[38;5;241m=\u001b[39m (\n\u001b[0;32m--> 273\u001b[0m         \u001b[43mParallel\u001b[49m\u001b[43m(\u001b[49m\u001b[43mn_jobs\u001b[49m\u001b[38;5;241;43m=\u001b[39;49m\u001b[38;5;28;43mself\u001b[39;49m\u001b[38;5;241;43m.\u001b[39;49m\u001b[43mn_jobs\u001b[49m\u001b[43m,\u001b[49m\n\u001b[1;32m    274\u001b[0m \u001b[43m                 \u001b[49m\u001b[43mverbose\u001b[49m\u001b[38;5;241;43m=\u001b[39;49m\u001b[38;5;28;43mself\u001b[39;49m\u001b[38;5;241;43m.\u001b[39;49m\u001b[43mverbose\u001b[49m\u001b[43m)\u001b[49m\u001b[43m(\u001b[49m\n\u001b[1;32m    275\u001b[0m \u001b[43m         \u001b[49m\u001b[43mdelayed\u001b[49m\u001b[43m(\u001b[49m\u001b[43mrun_leiden\u001b[49m\u001b[43m)\u001b[49m\u001b[43m(\u001b[49m\u001b[43muid\u001b[49m\u001b[43m,\u001b[49m\u001b[43m \u001b[49m\u001b[43muse_initclusters\u001b[49m\u001b[43m,\u001b[49m\n\u001b[1;32m    276\u001b[0m \u001b[43m                             \u001b[49m\u001b[43maffinity_mat\u001b[49m\u001b[38;5;241;43m.\u001b[39;49m\u001b[43mshape\u001b[49m\u001b[43m[\u001b[49m\u001b[38;5;241;43m0\u001b[39;49m\u001b[43m]\u001b[49m\u001b[43m,\u001b[49m\n\u001b[1;32m    277\u001b[0m \u001b[43m                             \u001b[49m\u001b[38;5;28;43mself\u001b[39;49m\u001b[38;5;241;43m.\u001b[39;49m\u001b[43mpartitiontype\u001b[49m\u001b[43m,\u001b[49m\n\u001b[1;32m    278\u001b[0m \u001b[43m                             \u001b[49m\u001b[38;5;28;43mself\u001b[39;49m\u001b[38;5;241;43m.\u001b[39;49m\u001b[43mn_leiden_iterations\u001b[49m\u001b[43m,\u001b[49m\n\u001b[1;32m    279\u001b[0m \u001b[43m                             \u001b[49m\u001b[43mseed\u001b[49m\u001b[38;5;241;43m*\u001b[39;49m\u001b[38;5;241;43m100\u001b[39;49m\u001b[43m,\u001b[49m\u001b[43m \u001b[49m\u001b[38;5;28;43mself\u001b[39;49m\u001b[38;5;241;43m.\u001b[39;49m\u001b[43mrefine\u001b[49m\u001b[43m)\u001b[49m\n\u001b[1;32m    280\u001b[0m \u001b[43m         \u001b[49m\u001b[38;5;28;43;01mfor\u001b[39;49;00m\u001b[43m \u001b[49m\u001b[43mseed\u001b[49m\u001b[43m \u001b[49m\u001b[38;5;129;43;01min\u001b[39;49;00m\u001b[43m \u001b[49m\u001b[43mtoiterover\u001b[49m\u001b[43m)\u001b[49m) \n\u001b[1;32m    282\u001b[0m     \u001b[38;5;28;01mfor\u001b[39;00m quality,membership \u001b[38;5;129;01min\u001b[39;00m parallel_leiden_results:\n\u001b[1;32m    283\u001b[0m         \u001b[38;5;28;01mif\u001b[39;00m ((best_quality \u001b[38;5;129;01mis\u001b[39;00m \u001b[38;5;28;01mNone\u001b[39;00m) \u001b[38;5;129;01mor\u001b[39;00m (quality \u001b[38;5;241m>\u001b[39m best_quality)):\n",
      "File \u001b[0;32m~/anaconda3/envs/cbp/lib/python3.9/site-packages/joblib/parallel.py:1944\u001b[0m, in \u001b[0;36mParallel.__call__\u001b[0;34m(self, iterable)\u001b[0m\n\u001b[1;32m   1938\u001b[0m \u001b[38;5;66;03m# The first item from the output is blank, but it makes the interpreter\u001b[39;00m\n\u001b[1;32m   1939\u001b[0m \u001b[38;5;66;03m# progress until it enters the Try/Except block of the generator and\u001b[39;00m\n\u001b[1;32m   1940\u001b[0m \u001b[38;5;66;03m# reach the first `yield` statement. This starts the aynchronous\u001b[39;00m\n\u001b[1;32m   1941\u001b[0m \u001b[38;5;66;03m# dispatch of the tasks to the workers.\u001b[39;00m\n\u001b[1;32m   1942\u001b[0m \u001b[38;5;28mnext\u001b[39m(output)\n\u001b[0;32m-> 1944\u001b[0m \u001b[38;5;28;01mreturn\u001b[39;00m output \u001b[38;5;28;01mif\u001b[39;00m \u001b[38;5;28mself\u001b[39m\u001b[38;5;241m.\u001b[39mreturn_generator \u001b[38;5;28;01melse\u001b[39;00m \u001b[38;5;28;43mlist\u001b[39;49m\u001b[43m(\u001b[49m\u001b[43moutput\u001b[49m\u001b[43m)\u001b[49m\n",
      "File \u001b[0;32m~/anaconda3/envs/cbp/lib/python3.9/site-packages/joblib/parallel.py:1587\u001b[0m, in \u001b[0;36mParallel._get_outputs\u001b[0;34m(self, iterator, pre_dispatch)\u001b[0m\n\u001b[1;32m   1584\u001b[0m     \u001b[38;5;28;01myield\u001b[39;00m\n\u001b[1;32m   1586\u001b[0m     \u001b[38;5;28;01mwith\u001b[39;00m \u001b[38;5;28mself\u001b[39m\u001b[38;5;241m.\u001b[39m_backend\u001b[38;5;241m.\u001b[39mretrieval_context():\n\u001b[0;32m-> 1587\u001b[0m         \u001b[38;5;28;01myield from\u001b[39;00m \u001b[38;5;28mself\u001b[39m\u001b[38;5;241m.\u001b[39m_retrieve()\n\u001b[1;32m   1589\u001b[0m \u001b[38;5;28;01mexcept\u001b[39;00m \u001b[38;5;167;01mGeneratorExit\u001b[39;00m:\n\u001b[1;32m   1590\u001b[0m     \u001b[38;5;66;03m# The generator has been garbage collected before being fully\u001b[39;00m\n\u001b[1;32m   1591\u001b[0m     \u001b[38;5;66;03m# consumed. This aborts the remaining tasks if possible and warn\u001b[39;00m\n\u001b[1;32m   1592\u001b[0m     \u001b[38;5;66;03m# the user if necessary.\u001b[39;00m\n\u001b[1;32m   1593\u001b[0m     \u001b[38;5;28mself\u001b[39m\u001b[38;5;241m.\u001b[39m_exception \u001b[38;5;241m=\u001b[39m \u001b[38;5;28;01mTrue\u001b[39;00m\n",
      "File \u001b[0;32m~/anaconda3/envs/cbp/lib/python3.9/site-packages/joblib/parallel.py:1691\u001b[0m, in \u001b[0;36mParallel._retrieve\u001b[0;34m(self)\u001b[0m\n\u001b[1;32m   1684\u001b[0m \u001b[38;5;28;01mwhile\u001b[39;00m \u001b[38;5;28mself\u001b[39m\u001b[38;5;241m.\u001b[39m_wait_retrieval():\n\u001b[1;32m   1685\u001b[0m \n\u001b[1;32m   1686\u001b[0m     \u001b[38;5;66;03m# If the callback thread of a worker has signaled that its task\u001b[39;00m\n\u001b[1;32m   1687\u001b[0m     \u001b[38;5;66;03m# triggered an exception, or if the retrieval loop has raised an\u001b[39;00m\n\u001b[1;32m   1688\u001b[0m     \u001b[38;5;66;03m# exception (e.g. `GeneratorExit`), exit the loop and surface the\u001b[39;00m\n\u001b[1;32m   1689\u001b[0m     \u001b[38;5;66;03m# worker traceback.\u001b[39;00m\n\u001b[1;32m   1690\u001b[0m     \u001b[38;5;28;01mif\u001b[39;00m \u001b[38;5;28mself\u001b[39m\u001b[38;5;241m.\u001b[39m_aborting:\n\u001b[0;32m-> 1691\u001b[0m         \u001b[38;5;28;43mself\u001b[39;49m\u001b[38;5;241;43m.\u001b[39;49m\u001b[43m_raise_error_fast\u001b[49m\u001b[43m(\u001b[49m\u001b[43m)\u001b[49m\n\u001b[1;32m   1692\u001b[0m         \u001b[38;5;28;01mbreak\u001b[39;00m\n\u001b[1;32m   1694\u001b[0m     \u001b[38;5;66;03m# If the next job is not ready for retrieval yet, we just wait for\u001b[39;00m\n\u001b[1;32m   1695\u001b[0m     \u001b[38;5;66;03m# async callbacks to progress.\u001b[39;00m\n",
      "File \u001b[0;32m~/anaconda3/envs/cbp/lib/python3.9/site-packages/joblib/parallel.py:1726\u001b[0m, in \u001b[0;36mParallel._raise_error_fast\u001b[0;34m(self)\u001b[0m\n\u001b[1;32m   1722\u001b[0m \u001b[38;5;66;03m# If this error job exists, immediatly raise the error by\u001b[39;00m\n\u001b[1;32m   1723\u001b[0m \u001b[38;5;66;03m# calling get_result. This job might not exists if abort has been\u001b[39;00m\n\u001b[1;32m   1724\u001b[0m \u001b[38;5;66;03m# called directly or if the generator is gc'ed.\u001b[39;00m\n\u001b[1;32m   1725\u001b[0m \u001b[38;5;28;01mif\u001b[39;00m error_job \u001b[38;5;129;01mis\u001b[39;00m \u001b[38;5;129;01mnot\u001b[39;00m \u001b[38;5;28;01mNone\u001b[39;00m:\n\u001b[0;32m-> 1726\u001b[0m     \u001b[43merror_job\u001b[49m\u001b[38;5;241;43m.\u001b[39;49m\u001b[43mget_result\u001b[49m\u001b[43m(\u001b[49m\u001b[38;5;28;43mself\u001b[39;49m\u001b[38;5;241;43m.\u001b[39;49m\u001b[43mtimeout\u001b[49m\u001b[43m)\u001b[49m\n",
      "File \u001b[0;32m~/anaconda3/envs/cbp/lib/python3.9/site-packages/joblib/parallel.py:735\u001b[0m, in \u001b[0;36mBatchCompletionCallBack.get_result\u001b[0;34m(self, timeout)\u001b[0m\n\u001b[1;32m    729\u001b[0m backend \u001b[38;5;241m=\u001b[39m \u001b[38;5;28mself\u001b[39m\u001b[38;5;241m.\u001b[39mparallel\u001b[38;5;241m.\u001b[39m_backend\n\u001b[1;32m    731\u001b[0m \u001b[38;5;28;01mif\u001b[39;00m backend\u001b[38;5;241m.\u001b[39msupports_retrieve_callback:\n\u001b[1;32m    732\u001b[0m     \u001b[38;5;66;03m# We assume that the result has already been retrieved by the\u001b[39;00m\n\u001b[1;32m    733\u001b[0m     \u001b[38;5;66;03m# callback thread, and is stored internally. It's just waiting to\u001b[39;00m\n\u001b[1;32m    734\u001b[0m     \u001b[38;5;66;03m# be returned.\u001b[39;00m\n\u001b[0;32m--> 735\u001b[0m     \u001b[38;5;28;01mreturn\u001b[39;00m \u001b[38;5;28;43mself\u001b[39;49m\u001b[38;5;241;43m.\u001b[39;49m\u001b[43m_return_or_raise\u001b[49m\u001b[43m(\u001b[49m\u001b[43m)\u001b[49m\n\u001b[1;32m    737\u001b[0m \u001b[38;5;66;03m# For other backends, the main thread needs to run the retrieval step.\u001b[39;00m\n\u001b[1;32m    738\u001b[0m \u001b[38;5;28;01mtry\u001b[39;00m:\n",
      "File \u001b[0;32m~/anaconda3/envs/cbp/lib/python3.9/site-packages/joblib/parallel.py:753\u001b[0m, in \u001b[0;36mBatchCompletionCallBack._return_or_raise\u001b[0;34m(self)\u001b[0m\n\u001b[1;32m    751\u001b[0m \u001b[38;5;28;01mtry\u001b[39;00m:\n\u001b[1;32m    752\u001b[0m     \u001b[38;5;28;01mif\u001b[39;00m \u001b[38;5;28mself\u001b[39m\u001b[38;5;241m.\u001b[39mstatus \u001b[38;5;241m==\u001b[39m TASK_ERROR:\n\u001b[0;32m--> 753\u001b[0m         \u001b[38;5;28;01mraise\u001b[39;00m \u001b[38;5;28mself\u001b[39m\u001b[38;5;241m.\u001b[39m_result\n\u001b[1;32m    754\u001b[0m     \u001b[38;5;28;01mreturn\u001b[39;00m \u001b[38;5;28mself\u001b[39m\u001b[38;5;241m.\u001b[39m_result\n\u001b[1;32m    755\u001b[0m \u001b[38;5;28;01mfinally\u001b[39;00m:\n",
      "\u001b[0;31mRuntimeError\u001b[0m: ----\nERROR:\nTraceback (most recent call last):\n  File \"/gstore/home/toneyans/anaconda3/envs/cbp/lib/python3.9/site-packages/modisco/cluster/run_leiden\", line 5, in <module>\n    import igraph as ig\nModuleNotFoundError: No module named 'igraph'\n\n----\nSTDOUT:\n"
     ]
    }
   ],
   "source": [
    "tfmodisco_results = modisco.tfmodisco_workflow.workflow.TfModiscoWorkflow(\n",
    "                    min_metacluster_size_frac=0.0001,\n",
    "                    max_seqlets_per_metacluster=max_seqlets,\n",
    "                    sliding_window_size=20,\n",
    "                    flank_size=5,\n",
    "                    target_seqlet_fdr=0.05,\n",
    "                    seqlets_to_patterns_factory=modisco.tfmodisco_workflow.seqlets_to_patterns.TfModiscoSeqletsToPatternsFactory(\n",
    "                        n_cores=10,\n",
    "                        trim_to_window_size=20,\n",
    "                        initial_flank_to_add=5,\n",
    "                        final_min_cluster_size=20))(task_names=[\"task0\"],\n",
    "                            contrib_scores=task_to_scores,\n",
    "                            hypothetical_contribs=task_to_hyp_scores,\n",
    "                            one_hot=onehot_data)"
   ]
  },
  {
   "cell_type": "code",
   "execution_count": null,
   "id": "61b7e93a-e79f-42ce-8410-995243c06374",
   "metadata": {},
   "outputs": [],
   "source": []
  }
 ],
 "metadata": {
  "kernelspec": {
   "display_name": "chrombpnet_env",
   "language": "python",
   "name": "chrombpnet_env"
  },
  "language_info": {
   "codemirror_mode": {
    "name": "ipython",
    "version": 3
   },
   "file_extension": ".py",
   "mimetype": "text/x-python",
   "name": "python",
   "nbconvert_exporter": "python",
   "pygments_lexer": "ipython3",
   "version": "3.8.17"
  }
 },
 "nbformat": 4,
 "nbformat_minor": 5
}
