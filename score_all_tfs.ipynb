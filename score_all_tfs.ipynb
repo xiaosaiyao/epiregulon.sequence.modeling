{
 "cells": [
  {
   "cell_type": "code",
   "execution_count": 2,
   "id": "bfe80a1a-88a0-4aa0-9447-9f66556cd218",
   "metadata": {},
   "outputs": [],
   "source": [
    "%load_ext autoreload\n",
    "%autoreload 2\n",
    "import dnn_util as util\n",
    "import pandas as pd\n",
    "import os\n",
    "import seaborn as sns\n"
   ]
  },
  {
   "cell_type": "code",
   "execution_count": 3,
   "id": "87aea1c6-d59c-4b7b-8614-22fb06d3c241",
   "metadata": {},
   "outputs": [
    {
     "name": "stdout",
     "output_type": "stream",
     "text": [
      "WARNING:tensorflow:No training configuration found in the save file, so the model was *not* compiled. Compile it manually.\n",
      "WARNING:tensorflow:No training configuration found in the save file, so the model was *not* compiled. Compile it manually.\n"
     ]
    }
   ],
   "source": [
    "clusters_of_interest = ['C1', 'C3']\n",
    "models = {k: util.load_cbp(f'{k}_chrombpnet_nobias.h5') for k in clusters_of_interest}\n"
   ]
  },
  {
   "cell_type": "code",
   "execution_count": 9,
   "id": "feb35bfd-ae27-41d3-916d-05e9e928dcf0",
   "metadata": {},
   "outputs": [
    {
     "name": "stdout",
     "output_type": "stream",
     "text": [
      "CBP_scores_Gata6.Zf_109_all.csv\n",
      "CBP_scores_Nkx2.1.Homeobox_182_all.csv\n"
     ]
    }
   ],
   "source": [
    "\n",
    "for cluster, motif, clean_motif_name in [['C1', 'Gata6.Zf_109', 'GATA6'],\n",
    "                                        ['C3', 'Nkx2.1.Homeobox_182', 'NKX2-1'],\n",
    "                                       ]: # for NKX - C3\n",
    "    res_path = f'CBP_scores_{motif}_all.csv'\n",
    "    print(res_path)\n",
    "    if not os.path.isfile(res_path):\n",
    "        cluster_scores = pd.read_csv(f'{motif}.csv', index_col='Unnamed: 0')\n",
    "\n",
    "        cluster_scores['regulon_tf'] = clean_motif_name\n",
    "        cluster_scores['count'] = util.get_scores_bpnet(models[cluster], cluster_scores)\n",
    "        cluster_scores.to_csv(res_path, index=None)"
   ]
  },
  {
   "cell_type": "code",
   "execution_count": 39,
   "id": "73fc017f-3f4b-4298-9d30-999eb7103aa1",
   "metadata": {},
   "outputs": [
    {
     "data": {
      "text/html": [
       "<div>\n",
       "<style scoped>\n",
       "    .dataframe tbody tr th:only-of-type {\n",
       "        vertical-align: middle;\n",
       "    }\n",
       "\n",
       "    .dataframe tbody tr th {\n",
       "        vertical-align: top;\n",
       "    }\n",
       "\n",
       "    .dataframe thead th {\n",
       "        text-align: right;\n",
       "    }\n",
       "</style>\n",
       "<table border=\"1\" class=\"dataframe\">\n",
       "  <thead>\n",
       "    <tr style=\"text-align: right;\">\n",
       "      <th></th>\n",
       "      <th>seqnames</th>\n",
       "      <th>start</th>\n",
       "      <th>end</th>\n",
       "      <th>width</th>\n",
       "      <th>strand</th>\n",
       "      <th>score</th>\n",
       "      <th>regulon_tf</th>\n",
       "      <th>pcc</th>\n",
       "      <th>jsd</th>\n",
       "      <th>count</th>\n",
       "    </tr>\n",
       "  </thead>\n",
       "  <tbody>\n",
       "    <tr>\n",
       "      <th>1</th>\n",
       "      <td>chr1</td>\n",
       "      <td>858938</td>\n",
       "      <td>858947</td>\n",
       "      <td>10</td>\n",
       "      <td>+</td>\n",
       "      <td>7.952381</td>\n",
       "      <td>NKX2-1</td>\n",
       "      <td>0.987439</td>\n",
       "      <td>-0.044238</td>\n",
       "      <td>0.004950</td>\n",
       "    </tr>\n",
       "    <tr>\n",
       "      <th>2</th>\n",
       "      <td>chr1</td>\n",
       "      <td>859003</td>\n",
       "      <td>859012</td>\n",
       "      <td>10</td>\n",
       "      <td>-</td>\n",
       "      <td>7.746377</td>\n",
       "      <td>NKX2-1</td>\n",
       "      <td>0.946447</td>\n",
       "      <td>-0.121706</td>\n",
       "      <td>0.092463</td>\n",
       "    </tr>\n",
       "    <tr>\n",
       "      <th>3</th>\n",
       "      <td>chr1</td>\n",
       "      <td>1001843</td>\n",
       "      <td>1001852</td>\n",
       "      <td>10</td>\n",
       "      <td>+</td>\n",
       "      <td>8.706159</td>\n",
       "      <td>NKX2-1</td>\n",
       "      <td>0.982046</td>\n",
       "      <td>-0.035874</td>\n",
       "      <td>0.009376</td>\n",
       "    </tr>\n",
       "    <tr>\n",
       "      <th>4</th>\n",
       "      <td>chr1</td>\n",
       "      <td>1053822</td>\n",
       "      <td>1053831</td>\n",
       "      <td>10</td>\n",
       "      <td>-</td>\n",
       "      <td>7.819495</td>\n",
       "      <td>NKX2-1</td>\n",
       "      <td>0.995047</td>\n",
       "      <td>-0.024499</td>\n",
       "      <td>0.003180</td>\n",
       "    </tr>\n",
       "    <tr>\n",
       "      <th>5</th>\n",
       "      <td>chr1</td>\n",
       "      <td>1241215</td>\n",
       "      <td>1241224</td>\n",
       "      <td>10</td>\n",
       "      <td>-</td>\n",
       "      <td>8.646773</td>\n",
       "      <td>NKX2-1</td>\n",
       "      <td>0.998465</td>\n",
       "      <td>-0.018604</td>\n",
       "      <td>0.002920</td>\n",
       "    </tr>\n",
       "    <tr>\n",
       "      <th>...</th>\n",
       "      <td>...</td>\n",
       "      <td>...</td>\n",
       "      <td>...</td>\n",
       "      <td>...</td>\n",
       "      <td>...</td>\n",
       "      <td>...</td>\n",
       "      <td>...</td>\n",
       "      <td>...</td>\n",
       "      <td>...</td>\n",
       "      <td>...</td>\n",
       "    </tr>\n",
       "    <tr>\n",
       "      <th>10279</th>\n",
       "      <td>chrX</td>\n",
       "      <td>154524849</td>\n",
       "      <td>154524858</td>\n",
       "      <td>10</td>\n",
       "      <td>+</td>\n",
       "      <td>7.747199</td>\n",
       "      <td>NKX2-1</td>\n",
       "      <td>0.998691</td>\n",
       "      <td>-0.020311</td>\n",
       "      <td>0.000574</td>\n",
       "    </tr>\n",
       "    <tr>\n",
       "      <th>10280</th>\n",
       "      <td>chrX</td>\n",
       "      <td>154799803</td>\n",
       "      <td>154799812</td>\n",
       "      <td>10</td>\n",
       "      <td>-</td>\n",
       "      <td>7.819495</td>\n",
       "      <td>NKX2-1</td>\n",
       "      <td>0.976941</td>\n",
       "      <td>-0.051948</td>\n",
       "      <td>0.012989</td>\n",
       "    </tr>\n",
       "    <tr>\n",
       "      <th>10281</th>\n",
       "      <td>chrX</td>\n",
       "      <td>155059048</td>\n",
       "      <td>155059057</td>\n",
       "      <td>10</td>\n",
       "      <td>-</td>\n",
       "      <td>7.952381</td>\n",
       "      <td>NKX2-1</td>\n",
       "      <td>0.946594</td>\n",
       "      <td>-0.091055</td>\n",
       "      <td>0.079168</td>\n",
       "    </tr>\n",
       "    <tr>\n",
       "      <th>10282</th>\n",
       "      <td>chrX</td>\n",
       "      <td>155334622</td>\n",
       "      <td>155334631</td>\n",
       "      <td>10</td>\n",
       "      <td>-</td>\n",
       "      <td>7.806585</td>\n",
       "      <td>NKX2-1</td>\n",
       "      <td>0.980359</td>\n",
       "      <td>-0.050582</td>\n",
       "      <td>0.040120</td>\n",
       "    </tr>\n",
       "    <tr>\n",
       "      <th>10283</th>\n",
       "      <td>chrX</td>\n",
       "      <td>155896643</td>\n",
       "      <td>155896652</td>\n",
       "      <td>10</td>\n",
       "      <td>-</td>\n",
       "      <td>8.140772</td>\n",
       "      <td>NKX2-1</td>\n",
       "      <td>0.959212</td>\n",
       "      <td>-0.092682</td>\n",
       "      <td>0.055723</td>\n",
       "    </tr>\n",
       "  </tbody>\n",
       "</table>\n",
       "<p>10283 rows × 10 columns</p>\n",
       "</div>"
      ],
      "text/plain": [
       "      seqnames      start        end  width strand     score regulon_tf  \\\n",
       "1         chr1     858938     858947     10      +  7.952381     NKX2-1   \n",
       "2         chr1     859003     859012     10      -  7.746377     NKX2-1   \n",
       "3         chr1    1001843    1001852     10      +  8.706159     NKX2-1   \n",
       "4         chr1    1053822    1053831     10      -  7.819495     NKX2-1   \n",
       "5         chr1    1241215    1241224     10      -  8.646773     NKX2-1   \n",
       "...        ...        ...        ...    ...    ...       ...        ...   \n",
       "10279     chrX  154524849  154524858     10      +  7.747199     NKX2-1   \n",
       "10280     chrX  154799803  154799812     10      -  7.819495     NKX2-1   \n",
       "10281     chrX  155059048  155059057     10      -  7.952381     NKX2-1   \n",
       "10282     chrX  155334622  155334631     10      -  7.806585     NKX2-1   \n",
       "10283     chrX  155896643  155896652     10      -  8.140772     NKX2-1   \n",
       "\n",
       "            pcc       jsd     count  \n",
       "1      0.987439 -0.044238  0.004950  \n",
       "2      0.946447 -0.121706  0.092463  \n",
       "3      0.982046 -0.035874  0.009376  \n",
       "4      0.995047 -0.024499  0.003180  \n",
       "5      0.998465 -0.018604  0.002920  \n",
       "...         ...       ...       ...  \n",
       "10279  0.998691 -0.020311  0.000574  \n",
       "10280  0.976941 -0.051948  0.012989  \n",
       "10281  0.946594 -0.091055  0.079168  \n",
       "10282  0.980359 -0.050582  0.040120  \n",
       "10283  0.959212 -0.092682  0.055723  \n",
       "\n",
       "[10283 rows x 10 columns]"
      ]
     },
     "execution_count": 39,
     "metadata": {},
     "output_type": "execute_result"
    }
   ],
   "source": [
    "cluster_scores"
   ]
  },
  {
   "cell_type": "code",
   "execution_count": 41,
   "id": "cfa9e0e6-118a-4b9a-8c7a-bfda601dd68e",
   "metadata": {},
   "outputs": [
    {
     "data": {
      "text/plain": [
       "<Axes: xlabel='jsd', ylabel='pcc'>"
      ]
     },
     "execution_count": 41,
     "metadata": {},
     "output_type": "execute_result"
    },
    {
     "data": {
      "image/png": "[encoded data removed]",
      "text/plain": [
       "<Figure size 640x480 with 1 Axes>"
      ]
     },
     "metadata": {},
     "output_type": "display_data"
    }
   ],
   "source": [
    "sns.scatterplot(data=cluster_scores, x='jsd', y='pcc')"
   ]
  },
  {
   "cell_type": "code",
   "execution_count": null,
   "id": "fa54736e-4a02-4333-8caf-f8436e6ff002",
   "metadata": {},
   "outputs": [],
   "source": []
  }
 ],
 "metadata": {
  "kernelspec": {
   "display_name": "cbp",
   "language": "python",
   "name": "cbp"
  },
  "language_info": {
   "codemirror_mode": {
    "name": "ipython",
    "version": 3
   },
   "file_extension": ".py",
   "mimetype": "text/x-python",
   "name": "python",
   "nbconvert_exporter": "python",
   "pygments_lexer": "ipython3",
   "version": "3.9.16"
  }
 },
 "nbformat": 4,
 "nbformat_minor": 5
}
